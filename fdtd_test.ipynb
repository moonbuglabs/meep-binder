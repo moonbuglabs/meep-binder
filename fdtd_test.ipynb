{
 "cells": [
  {
   "cell_type": "code",
   "source": [
    "import meep as mp\n",
    "cell_size = mp.Vector3(10, 10)\n",
    "geometry = [mp.Block(size=mp.Vector3(2, 1, 1), center=mp.Vector3(), material=mp.Medium(epsilon=12))]\n",
    "sources = [mp.Source(src=mp.ContinuousSource(frequency=1), component=mp.Ez, center=mp.Vector3(-4, 0))]\n",
    "sim = mp.Simulation(cell_size=cell_size, geometry=geometry, sources=sources, boundary_layers=[mp.PML(0.5)])\n",
    "sim.run(until=100)\n",
    "print('FDTD Simulation Ran Successfully!')"
   ],
   "metadata": {},
   "execution_count": null
  }
 ],
 "metadata": {
  "kernelspec": {
   "name": "python3",
   "display_name": "PyMeep (MPI)"
  }
 },
 "nbformat": 4,
 "nbformat_minor": 4
}
